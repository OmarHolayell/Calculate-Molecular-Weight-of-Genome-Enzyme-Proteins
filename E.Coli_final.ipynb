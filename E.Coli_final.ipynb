{
 "cells": [
  {
   "cell_type": "markdown",
   "id": "cc6f6cc1-6fc4-44e5-97d1-90c043b6cbd6",
   "metadata": {},
   "source": [
    "#  import and install libraries"
   ]
  },
  {
   "cell_type": "code",
   "execution_count": null,
   "id": "50c820a4-cae3-4d38-9e67-b08ac3a030a9",
   "metadata": {},
   "outputs": [],
   "source": [
    "!pip install BioPython\n",
    "from Bio import SeqIO\n",
    "from Bio.SeqUtils.ProtParam import ProteinAnalysis\n",
    "from Bio.SeqUtils import molecular_weight\n",
    "from Bio.Seq import Seq\n",
    "from Bio.SeqUtils import ProtParam\n",
    "import pandas as pd"
   ]
  },
  {
   "cell_type": "markdown",
   "id": "1637329a-aea4-4151-80c6-1d2ec4509b6c",
   "metadata": {},
   "source": [
    "# create function that calculate mw of one protein"
   ]
  },
  {
   "cell_type": "code",
   "execution_count": null,
   "id": "bca02359-ca83-486d-9ee5-415703d0c422",
   "metadata": {},
   "outputs": [],
   "source": [
    "def get_molecular_weight(protein_sequence):\n",
    "    analyzed_seq = ProteinAnalysis(protein_sequence)\n",
    "    return analyzed_seq.molecular_weight()\n",
    "\n",
    "# Example sequence\n",
    "protein_sequence = \"MKRISTTITTTITITTGNGAG\"\n",
    "print(get_molecular_weight(protein_sequence)/1000,\"K Dalton\")"
   ]
  },
  {
   "cell_type": "markdown",
   "id": "948e9a56-0b94-48cc-aa89-7dcd1f9e0e33",
   "metadata": {},
   "source": [
    "#  read fasta file path "
   ]
  },
  {
   "cell_type": "code",
   "execution_count": null,
   "id": "57e1736c-5e21-45e5-8ea2-5e37fab4db53",
   "metadata": {},
   "outputs": [],
   "source": [
    "file_path=SeqIO.parse(\"E:\\\\BCB diploma\\\\INTRO-CADS\\\\Graduation Project\\\\ncbi_dataset (1)\\\\ncbi_dataset\\\\data\\\\GCF_000005845.2\\\\protein.faa\",\"fasta\")"
   ]
  },
  {
   "cell_type": "markdown",
   "id": "f9b0d1c4-f5cd-468a-a1a9-91d1623f6a70",
   "metadata": {},
   "source": [
    "# create function to calculate mw for all proteins of e.coli"
   ]
  },
  {
   "cell_type": "code",
   "execution_count": null,
   "id": "59c9da70-0bcf-4c06-9a76-bd6cdd9b54cd",
   "metadata": {},
   "outputs": [],
   "source": [
    "def calculate_molecular_weights (file_path):\n",
    " \n",
    "    data = []   # create list to store data\n",
    "    for record in SeqIO.parse(\"E:\\\\BCB diploma\\\\INTRO-CADS\\\\Graduation Project\\\\ncbi_dataset (1)\\\\ncbi_dataset\\\\data\\\\GCF_000005845.2\\\\protein.faa\", \"fasta\"):\n",
    "        accession = record.id\n",
    "        sequence = str(record.seq)\n",
    "        prot_param = ProtParam.ProteinAnalysis(sequence)\n",
    "        molecular_weight = prot_param.molecular_weight()\n",
    "        data.append([accession, sequence, molecular_weight])\n",
    "        \n",
    "\n",
    "    df = pd.DataFrame(data, columns=['Accession', 'Sequence', 'MolecularWeight(dalton)'])  # create data frame to store variables\n",
    "    return df\n"
   ]
  },
  {
   "cell_type": "markdown",
   "id": "c49db022-41c7-4042-8968-d5e37bb87a4e",
   "metadata": {},
   "source": [
    "# calling function"
   ]
  },
  {
   "cell_type": "code",
   "execution_count": null,
   "id": "8552564f-b093-4621-9010-bcfe90c093e7",
   "metadata": {},
   "outputs": [],
   "source": [
    "df = calculate_molecular_weights(file_path)\n",
    "print(df)"
   ]
  },
  {
   "cell_type": "markdown",
   "id": "a7cdaa36-3bcd-4422-b017-eec114ff141c",
   "metadata": {},
   "source": [
    "#  read PTT file "
   ]
  },
  {
   "cell_type": "code",
   "execution_count": null,
   "id": "193ae95a-f63e-4dad-8e10-b4a09f3d9454",
   "metadata": {},
   "outputs": [],
   "source": [
    "pttfile=pd.read_csv('E:\\\\BCB diploma\\\\INTRO-CADS\\\\Graduation Project\\\\ecoli.tsv' ,sep='\\t')"
   ]
  },
  {
   "cell_type": "code",
   "execution_count": null,
   "id": "6ecfcba7-8504-4a01-bcca-2853dba7cec2",
   "metadata": {},
   "outputs": [],
   "source": [
    "pttfile"
   ]
  },
  {
   "cell_type": "markdown",
   "id": "0ed0f8ca-f509-4dbb-9f84-ff043514fd0d",
   "metadata": {},
   "source": [
    "# insert Locus tag to data frame"
   ]
  },
  {
   "cell_type": "code",
   "execution_count": null,
   "id": "28efaeb6-b061-4b6f-8851-1738fa0d2aea",
   "metadata": {},
   "outputs": [],
   "source": [
    "df['Locus tag']=pttfile['Locus tag']\n",
    "df"
   ]
  },
  {
   "cell_type": "markdown",
   "id": "fbec0b84-b707-49c1-a0bf-7e11061d3127",
   "metadata": {},
   "source": [
    "# create copy of data frame and drop column"
   ]
  },
  {
   "cell_type": "code",
   "execution_count": null,
   "id": "b10d95ce-2ca8-4198-8c7a-37777b737b27",
   "metadata": {},
   "outputs": [],
   "source": [
    "data_frame2=df.copy()\n",
    "data_frame2=data_frame2.drop(['Accession', 'Sequence'], axis=1)"
   ]
  },
  {
   "cell_type": "code",
   "execution_count": null,
   "id": "61bca9fe-619a-4bd4-9222-2ce3714a450e",
   "metadata": {},
   "outputs": [],
   "source": [
    "data_frame2                "
   ]
  }
 ],
 "metadata": {
  "kernelspec": {
   "display_name": "Python 3 (ipykernel)",
   "language": "python",
   "name": "python3"
  },
  "language_info": {
   "codemirror_mode": {
    "name": "ipython",
    "version": 3
   },
   "file_extension": ".py",
   "mimetype": "text/x-python",
   "name": "python",
   "nbconvert_exporter": "python",
   "pygments_lexer": "ipython3",
   "version": "3.12.4"
  }
 },
 "nbformat": 4,
 "nbformat_minor": 5
}
